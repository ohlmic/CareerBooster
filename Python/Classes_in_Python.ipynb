{
 "cells": [
  {
   "cell_type": "markdown",
   "metadata": {},
   "source": [
    "# The Class Structure in Python\n",
    "\n",
    "https://github.com/UofTCoders/studyGroup/blob/gh-pages/lessons/python/classes/lesson.md\n",
    "\n",
    "Adapted from https://www.jeffknupp.com/blog/2014/06/18/improve-your-python-python-classes-and-object-oriented-programming/\n",
    "\n",
    "## What is a Class?\n",
    "\n",
    "A class is a structure in Python that can be used as a blueprint to create objects that have \n",
    "1. prototyped features, \"attributes\" that are variable\n",
    "2. \"methods\" which are functions that can be applied to the object that is created, or rather, an instance of that class. "
   ]
  },
  {
   "cell_type": "markdown",
   "metadata": {},
   "source": [
    "## Defining a Class\n",
    "\n",
    "We want to define a class called *Client* in which a new instance stores a client's name, balance, and account level.\n",
    "It will take the format of:\n",
    "    \n",
    "    class Client(object):\n",
    "        def __init__(self, args[, ...])\n",
    "            #more code\n",
    "            \n",
    "\"def `__init__`\" is what we use when creating classes to define how we can create a new instance of this class. \n",
    "\n",
    "The arguments of `__init__` are required input when creating a new instance of this class, except for 'self'. "
   ]
  },
  {
   "cell_type": "code",
   "execution_count": 1,
   "metadata": {},
   "outputs": [],
   "source": [
    "# create the Client class below\n",
    "class Client(object):\n",
    "    def __init__(self, name, balance):\n",
    "        self.name = name\n",
    "        self.balance = balance + 100\n",
    "        \n",
    "        #define account level\n",
    "        if self.balance < 5000:\n",
    "            self.level = \"Basic\"\n",
    "        elif self.balance < 15000:\n",
    "            self.level = \"Intermediate\"\n",
    "        else:\n",
    "            self.level = \"Advanced\"\n",
    "            \n",
    "            "
   ]
  },
  {
   "cell_type": "markdown",
   "metadata": {},
   "source": [
    "The **attributes** in *Client* are *name, balance* and *level*. \n",
    "\n",
    "**Note**: \"self.name\" and \"name\" are different variables. Here they represent the same values, but in other cases, this may lead to problems. For example, here the bank has decided to update \"self.balance\" by giving all new members a bonus $100 on top of what they're putting in the bank. Calling \"balance\" for other calculations will not have the correct value."
   ]
  },
  {
   "cell_type": "markdown",
   "metadata": {},
   "source": [
    "### Creating an Instance of a Class\n",
    "\n",
    "Now, lets try creating some new clients named John_Doe, and Jane_Defoe:"
   ]
  },
  {
   "cell_type": "code",
   "execution_count": 2,
   "metadata": {},
   "outputs": [],
   "source": [
    "John_Doe = Client(\"John Doe\", 500)\n",
    "Jane_Defoe = Client(\"Jane Defoe\", 150000)"
   ]
  },
  {
   "cell_type": "markdown",
   "metadata": {},
   "source": [
    "We can see the attributes of John_Doe, or Jane_Defoe by calling them:"
   ]
  },
  {
   "cell_type": "code",
   "execution_count": 7,
   "metadata": {},
   "outputs": [
    {
     "data": {
      "text/plain": [
       "150100"
      ]
     },
     "execution_count": 7,
     "metadata": {},
     "output_type": "execute_result"
    }
   ],
   "source": [
    "John_Doe.name\n",
    "Jane_Defoe.level\n",
    "Jane_Defoe.balance"
   ]
  },
  {
   "cell_type": "markdown",
   "metadata": {},
   "source": [
    "We can also add, remove or modify attributes as we like:"
   ]
  },
  {
   "cell_type": "code",
   "execution_count": 8,
   "metadata": {},
   "outputs": [],
   "source": [
    "John_Doe.email = \"jdoe23@gmail.com\"\n",
    "#John_Doe.email = \"johndoe23@gmail.com\"\n",
    "#del John_Doe.email"
   ]
  },
  {
   "cell_type": "code",
   "execution_count": 9,
   "metadata": {},
   "outputs": [
    {
     "data": {
      "text/plain": [
       "'jdoe23@gmail.com'"
      ]
     },
     "execution_count": 9,
     "metadata": {},
     "output_type": "execute_result"
    }
   ],
   "source": [
    "#getattr(John_Doe, 'name')\n",
    "#setattr(John_Doe, 'email', 'jdoe23@gmail.com')\n",
    "John_Doe.email"
   ]
  },
  {
   "cell_type": "markdown",
   "metadata": {},
   "source": [
    "You can also use the following instead instead of the normal statements:\n",
    "\n",
    "- The `getattr(obj, name[, default])` : to access the attribute of object.\n",
    "\n",
    "- The `hasattr(obj,name)` : to check if an attribute exists or not.\n",
    "\n",
    "- The `setattr(obj,name,value)` : to set an attribute. If attribute does not exist, then it would be created.\n",
    "\n",
    "- The `delattr(obj, name)` : to delete an attribute."
   ]
  },
  {
   "cell_type": "markdown",
   "metadata": {},
   "source": [
    "### Class Attributes vs. Normal Attributes\n",
    "\n",
    "A class attribute is an attribute set at the class-level rather than the instance-level, such that the value of this attribute will be the same across all instances.\n",
    "\n",
    "For our *Client* class, we might want to set the name of the bank, and the location, which would not change from instance to instance."
   ]
  },
  {
   "cell_type": "code",
   "execution_count": 10,
   "metadata": {},
   "outputs": [],
   "source": [
    "Client.bank = \"TD\"\n",
    "Client.location = \"Toronto, ON\""
   ]
  },
  {
   "cell_type": "code",
   "execution_count": 12,
   "metadata": {},
   "outputs": [
    {
     "data": {
      "text/plain": [
       "'TD'"
      ]
     },
     "execution_count": 12,
     "metadata": {},
     "output_type": "execute_result"
    }
   ],
   "source": [
    "# try calling these attributes at the class and instance level\n",
    "#Client.bank\n",
    "Jane_Defoe.bank\n"
   ]
  },
  {
   "cell_type": "markdown",
   "metadata": {},
   "source": [
    "### Methods\n",
    "\n",
    "*Methods* are functions that can be applied (only) to instances of your class. \n",
    "\n",
    "For example, in the case of our 'Client' class, we may want to update a person's bank account once they withdraw or deposit money. Let's create these methods below. \n",
    "\n",
    "Note that each method takes 'self' as an argument along with the arguments required when calling this method."
   ]
  },
  {
   "cell_type": "code",
   "execution_count": 13,
   "metadata": {},
   "outputs": [],
   "source": [
    "# Use the Client class code above to now add methods for withdrawal and depositing of money\n",
    "\n",
    "# create the Client class below\n",
    "class Client(object):\n",
    "    def __init__(self, name, balance):\n",
    "        self.name = name\n",
    "        self.balance = balance + 100\n",
    "        \n",
    "        #define account level\n",
    "        if self.balance < 5000:\n",
    "            self.level = \"Basic\"\n",
    "        elif self.balance < 15000:\n",
    "            self.level = \"Intermediate\"\n",
    "        else:\n",
    "            self.level = \"Advanced\"\n",
    "            \n",
    "    def deposit(self, amount):\n",
    "        self.balance += amount\n",
    "        return self.balance\n",
    "    \n",
    "    def withdraw(self, amount):\n",
    "        if amount > self.balance:\n",
    "            raise RuntimeError(\"Insufficient for withdrawal\")\n",
    "        else:\n",
    "            self.balance -= amount\n",
    "        return self.balance"
   ]
  },
  {
   "cell_type": "code",
   "execution_count": 29,
   "metadata": {},
   "outputs": [
    {
     "data": {
      "text/plain": [
       "300100"
      ]
     },
     "execution_count": 29,
     "metadata": {},
     "output_type": "execute_result"
    }
   ],
   "source": [
    "Jane_Defoe.deposit(150000)"
   ]
  },
  {
   "cell_type": "markdown",
   "metadata": {},
   "source": [
    "#### What is \"self\"? \n",
    "`*`*not in the philosophical sense*`*`\n",
    "\n",
    "In the method, withdraw(self, amount), the self refers to the *instance* upon which we are applying the instructions of the method. \n",
    "\n",
    "When we call a method, `f(self, arg)`, on the object `x`, we use `x.f(arg)`.\n",
    "- `x` is passed as the first argument, *self*, by default and all that is required are the other arguments that comprise the function. \n",
    "\n",
    "It is equivalent to calling `MyClass.f(x, arg)`.\n",
    "Try it yourself with the Client class and one of the methods we've written."
   ]
  },
  {
   "cell_type": "code",
   "execution_count": 33,
   "metadata": {},
   "outputs": [
    {
     "data": {
      "text/plain": [
       "200100"
      ]
     },
     "execution_count": 33,
     "metadata": {},
     "output_type": "execute_result"
    }
   ],
   "source": [
    "# Try calling a method two different ways\n",
    "John_Doe.deposit(500)\n",
    "Client.withdraw(Jane_Defoe, 50000)"
   ]
  },
  {
   "cell_type": "markdown",
   "metadata": {},
   "source": [
    "### Static Methods \n",
    "\n",
    "Static methods are methods that belong to a class but do not have access to *self* and hence don't require an instance to function (i.e. it will work on the class level as well as the instance level). \n",
    "\n",
    "We denote these with the line `@staticmethod` before we define our static method.\n",
    "\n",
    "Let's create a static method called make_money_sound() that will simply print \"Cha-ching!\" when called."
   ]
  },
  {
   "cell_type": "code",
   "execution_count": 34,
   "metadata": {},
   "outputs": [],
   "source": [
    "# Add a static method called make_money_sound()\n",
    "# create the Client class below\n",
    "class Client(object):\n",
    "    def __init__(self, name, balance):\n",
    "        self.name = name\n",
    "        self.balance = balance + 100\n",
    "        \n",
    "        #define account level\n",
    "        if self.balance < 5000:\n",
    "            self.level = \"Basic\"\n",
    "        elif self.balance < 15000:\n",
    "            self.level = \"Intermediate\"\n",
    "        else:\n",
    "            self.level = \"Advanced\"\n",
    "            \n",
    "    @staticmethod\n",
    "    def make_money_sound():\n",
    "        print \"Cha-ching!\"\n",
    "        \n",
    "    \n"
   ]
  },
  {
   "cell_type": "code",
   "execution_count": 37,
   "metadata": {},
   "outputs": [
    {
     "name": "stdout",
     "output_type": "stream",
     "text": [
      "Cha-ching!\n"
     ]
    }
   ],
   "source": [
    "Client.make_money_sound()\n"
   ]
  },
  {
   "cell_type": "markdown",
   "metadata": {},
   "source": [
    "### Instance Methods"
   ]
  },
  {
   "cell_type": "markdown",
   "metadata": {},
   "source": [
    "Instance methods are the most common type of methods in Python classes. These are so called because they can access unique data of their instance. If you have two objects each created from a car class, then they each may have different properties. They may have different colors, engine sizes, seats, and so on.\n",
    "\n",
    "Instance methods must have self as a parameter, but you don’t need to pass this in every time. Inside any instance method, you can use self to access any data or methods that may reside in your class. You won’t be able to access them without going through self."
   ]
  },
  {
   "cell_type": "code",
   "execution_count": 20,
   "metadata": {},
   "outputs": [],
   "source": [
    "# Add an instance method called get_name()\n",
    "# create the Client class below\n",
    "class Client(object):\n",
    "    def __init__(self, name, balance):\n",
    "        self.name = name\n",
    "        self.balance = balance + 100\n",
    "        \n",
    "        #define account level\n",
    "        if self.balance < 5000:\n",
    "            self.level = \"Basic\"\n",
    "        elif self.balance < 15000:\n",
    "            self.level = \"Intermediate\"\n",
    "        else:\n",
    "            self.level = \"Advanced\"\n",
    "            \n",
    "    def get_name(self):\n",
    "        \"\"\" This method is an instance method! \"\"\"\n",
    "        print(f'The client name is {self.name}')"
   ]
  },
  {
   "cell_type": "code",
   "execution_count": 21,
   "metadata": {},
   "outputs": [
    {
     "name": "stdout",
     "output_type": "stream",
     "text": [
      "The client name is John Doe\n"
     ]
    }
   ],
   "source": [
    "John_Doe = Client(\"John Doe\", 500)\n",
    "John_Doe.get_name()"
   ]
  },
  {
   "cell_type": "markdown",
   "metadata": {},
   "source": [
    "### Class Methods\n",
    "\n",
    "A class method is a type of method that will receive the class rather than the instance as the first parameter. It is also identified similarly to a static method, with `@classmethod`.\n",
    "\n",
    "Create a class method called bank_location() that will print both the bank name and location when called upon the class."
   ]
  },
  {
   "cell_type": "code",
   "execution_count": 18,
   "metadata": {},
   "outputs": [],
   "source": [
    "# Add a class method called bank_location()\n",
    "# create the Client class below\n",
    "class Client(object):\n",
    "    bank = \"TD\"\n",
    "    location = \"Toronto, ON\"\n",
    "    \n",
    "    def __init__(self, name, balance):\n",
    "        self.name = name\n",
    "        self.balance = balance + 100\n",
    "        \n",
    "        #define account level\n",
    "        if self.balance < 5000:\n",
    "            self.level = \"Basic\"\n",
    "        elif self.balance < 15000:\n",
    "            self.level = \"Intermediate\"\n",
    "        else:\n",
    "            self.level = \"Advanced\"\n",
    "            \n",
    "    @classmethod\n",
    "    def bank_location(cls):\n",
    "        return str(cls.bank + \" \" + cls.location)\n",
    "\n"
   ]
  },
  {
   "cell_type": "code",
   "execution_count": 19,
   "metadata": {},
   "outputs": [
    {
     "data": {
      "text/plain": [
       "'TD Toronto, ON'"
      ]
     },
     "execution_count": 19,
     "metadata": {},
     "output_type": "execute_result"
    }
   ],
   "source": [
    "Client.bank_location()"
   ]
  },
  {
   "cell_type": "markdown",
   "metadata": {},
   "source": [
    "In summary:\n",
    "\n",
    "* **Instance Methods**: The most common method type. Able to access data and properties unique to each instance.\n",
    "* **Static Methods**: Cannot access anything else in the class. Totally self-contained code.\n",
    "* **Class Methods**: Can access limited methods in the class. Can modify class specific details."
   ]
  },
  {
   "cell_type": "markdown",
   "metadata": {},
   "source": [
    "### Key Concept: Inheritance\n",
    "\n",
    "A 'child' class can be created from a 'parent' class, whereby the child will bring over attributes and methods that its parent has, but where new features can be created as well. \n",
    "\n",
    "This would be useful if you want to create multiple classes that would have some features that are kept the same between them. You would simply create a parent class of these children classes that have those maintained features.\n",
    "\n",
    "Imagine we want to create different types of clients but still have all the base attributes and methods found in client currently. \n",
    "\n",
    "For example, let's create a class called *Savings* that inherits from the *Client* class. In doing so, we do not need to write another `__init__` method as it will inherit this from its parent."
   ]
  },
  {
   "cell_type": "code",
   "execution_count": 46,
   "metadata": {
    "collapsed": true
   },
   "outputs": [],
   "source": [
    "# create the Savings class below\n",
    "class Savings(Client):\n",
    "    interest_rate = 0.005\n",
    "    \n",
    "    def update_balance(self):\n",
    "        self.balance += self.balance*self.interest_rate\n",
    "        return self.balance\n"
   ]
  },
  {
   "cell_type": "code",
   "execution_count": 47,
   "metadata": {
    "collapsed": true
   },
   "outputs": [],
   "source": [
    "# create an instance the same way as a Client but this time by calling Savings instead\n",
    "Lina_Tran = Savings(\"Lina Tran\", 50)"
   ]
  },
  {
   "cell_type": "code",
   "execution_count": 49,
   "metadata": {},
   "outputs": [
    {
     "name": "stdout",
     "output_type": "stream",
     "text": [
      "Lina Tran\n",
      "150\n",
      "0.005\n"
     ]
    }
   ],
   "source": [
    "# it now has access to the new attributes and methods in Savings...\n",
    "print Lina_Tran.name\n",
    "print Lina_Tran.balance\n",
    "print Lina_Tran.interest_rate"
   ]
  },
  {
   "cell_type": "code",
   "execution_count": 50,
   "metadata": {},
   "outputs": [
    {
     "data": {
      "text/plain": [
       "150.75"
      ]
     },
     "execution_count": 50,
     "metadata": {},
     "output_type": "execute_result"
    }
   ],
   "source": [
    "# ...as well as access to attributes and methods from the Client class as well\n",
    "Lina_Tran.update_balance()"
   ]
  },
  {
   "cell_type": "code",
   "execution_count": 4,
   "metadata": {},
   "outputs": [],
   "source": [
    "#defining a method outside the class definition\n",
    "def check_balance(self):\n",
    "    return self.balance\n",
    "\n",
    "Client.check_balance = check_balance"
   ]
  },
  {
   "cell_type": "code",
   "execution_count": 53,
   "metadata": {},
   "outputs": [
    {
     "data": {
      "text/plain": [
       "600"
      ]
     },
     "execution_count": 53,
     "metadata": {},
     "output_type": "execute_result"
    }
   ],
   "source": [
    "John_Doe.check_balance()"
   ]
  }
 ],
 "metadata": {
  "kernelspec": {
   "display_name": "Python 3",
   "language": "python",
   "name": "python3"
  },
  "language_info": {
   "codemirror_mode": {
    "name": "ipython",
    "version": 3
   },
   "file_extension": ".py",
   "mimetype": "text/x-python",
   "name": "python",
   "nbconvert_exporter": "python",
   "pygments_lexer": "ipython3",
   "version": "3.7.3"
  }
 },
 "nbformat": 4,
 "nbformat_minor": 1
}
