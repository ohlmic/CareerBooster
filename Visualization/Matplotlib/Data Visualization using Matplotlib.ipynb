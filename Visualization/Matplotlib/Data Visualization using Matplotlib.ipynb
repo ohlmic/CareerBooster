{
 "cells": [
  {
   "cell_type": "markdown",
   "metadata": {},
   "source": [
    "# Data visualization \n",
    "Is viewed by many disciplines as a modern equivalent of visual communication. It involves the creation and study of the visual representation of data.\n",
    "\n",
    "To communicate information clearly and efficiently, data visualization uses statistical graphics, plots, information graphics and other tools. Numerical data may be encoded using dots, lines, or bars, to visually communicate a quantitative message. Effective visualization helps users analyze and reason about data and evidence. It makes complex data more accessible, understandable and usable. Users may have particular analytical tasks, such as making comparisons or understanding causality, and the design principle of the graphic (i.e., showing comparisons or showing causality) follows the task. Tables are generally used where users will look up a specific measurement, while charts of various types are used to show patterns or relationships in the data for one or more variables.\n",
    "\n",
    "Data visualization is both an art and a science.It is viewed as a branch of descriptive statistics by some, but also as a grounded theory development tool by others. Increased amounts of data created by Internet activity and an expanding number of sensors in the environment are referred to as \"big data\" or Internet of things. Processing, analyzing and communicating this data present ethical and analytical challenges for data visualization.The field of data science and practitioners called data scientists help address this challenge."
   ]
  },
  {
   "cell_type": "markdown",
   "metadata": {},
   "source": [
    "1. Matplotlib\n",
    "2. Pandas Built in Data Visualization\n",
    "3. Seaborn\n",
    "4. Plotly and Cufflinks\n",
    "5. Geographical plotting"
   ]
  },
  {
   "cell_type": "markdown",
   "metadata": {},
   "source": [
    "# Matplotlib"
   ]
  },
  {
   "cell_type": "markdown",
   "metadata": {},
   "source": [
    "Matplotlib is a Python 2D plotting library which produces publication quality figures in a variety of hardcopy formats and interactive environments across platforms. Matplotlib can be used in Python scripts, the Python and IPython shells, the Jupyter notebook, web application servers, and four graphical user interface toolkits.\n",
    "\n",
    "* Matplotlib is the most popular plotting library for python.\n",
    "* It gives you control over every aspect of a figure.\n",
    "* It was designed to have a similar feel to matlab's graphical plotting."
   ]
  },
  {
   "cell_type": "markdown",
   "metadata": {},
   "source": [
    "### Import the libraries"
   ]
  },
  {
   "cell_type": "code",
   "execution_count": 3,
   "metadata": {},
   "outputs": [],
   "source": [
    "import numpy as np\n",
    "import pandas as pd\n",
    "import matplotlib.pyplot as plt\n",
    "%matplotlib inline                       \n",
    "\n",
    "# matplotlib.pyplot is a state-based interface to matplotlib. It provides a MATLAB-like way of plotting.\n",
    "# pyplot is mainly intended for interactive plots and simple cases of programmatic plot generation:\n",
    "\n",
    "#  %matplotlib inline means all the plots will now show in notebook itself."
   ]
  },
  {
   "cell_type": "markdown",
   "metadata": {},
   "source": [
    "* Note - If you're using Matplotlib from within a python script, then you have to add plt.show() method inside the file to be able display your plot."
   ]
  },
  {
   "cell_type": "markdown",
   "metadata": {},
   "source": [
    "### Two ways to plot\n",
    "   * Functional Method\n",
    "   * Object - Oriented Method\n",
    "   \n",
    "#### Functional Method   \n",
    "Using the basic matplotlib comman, we can easily create a plot. Remember, if no plot was displayed or if you're using Matplotlib from within a python script, don't forget to add plt.show() at the last line to display your plot.\n",
    "\n",
    "General Text\n",
    "    x = np.linspace(start, stop, num(by default =50), others)\n",
    "    y = Any equation for example np.sqrt(x) or x ** 2 etc.\n",
    "    \n",
    "   #### Steps In-\n",
    "   1. plt.plot(x,y,color, others)            Plot y versus x as lines and/or markers. \n",
    "    \n",
    "   2. plt.xlable(\"Your Text\")                Set the x-axis label of the current axes. \n",
    "   \n",
    "   3. plt.ylable(\"Your Text\")                Set the y-axis label of the current axes.  <br>\n",
    "    \n",
    "   4. plt.set_title(\"Your Title\")            Set a title of the current axes. <br>\n",
    "   \n",
    "   5. plt.show()                             Display a figure.    <br>\n",
    "\n",
    "#### Object - Oriented Method\n",
    "Another way to create a plot. Idea here is to create figure objects and call methods of it. To create figure we use .figure() method. Once, you created a figure you need to add a set of axes to it using .add_axes() method.\n",
    "\n",
    "   #### Steps In-\n",
    "    \n",
    "   1. fig = plt.figure()                                          Creates a new figure.       <br>\n",
    "\n",
    "   2. axes = fig.add_axes([left,bottom,width,height], projection ='Your choice') <br>\n",
    "      Add an axes at position [left, bottom, width, height] where all quantities are in fractions of figure width and height <br> \n",
    "    \n",
    "   3. axes.plot(x,y)            Plot y versus x as lines and/or markers.<br>\n",
    "\n",
    "   4. axes.set_xlabel(\"Your Text\")          Set the label for the x-axis.<br>\n",
    "   \n",
    "   5. axes.set_ylabel(\"Your Text\")          Set the label for the x-axis.<br>\n",
    "   \n",
    "   6. axes.set_title(\"Your Title\")          Set the title of the current axes.      "
   ]
  },
  {
   "cell_type": "markdown",
   "metadata": {},
   "source": [
    "### Functional Method"
   ]
  },
  {
   "cell_type": "code",
   "execution_count": 4,
   "metadata": {},
   "outputs": [
    {
     "data": {
      "image/png": "[encoded data removed]",
      "text/plain": [
       "<Figure size 432x288 with 1 Axes>"
      ]
     },
     "metadata": {
      "needs_background": "light"
     },
     "output_type": "display_data"
    }
   ],
   "source": [
    "x = np.linspace(0,10,100)\n",
    "y = x**2\n",
    "\n",
    "plt.plot(x,y,'r')\n",
    "\n",
    "plt.xlabel(\"X Label\")\n",
    "plt.ylabel(\"Y Label\")\n",
    "\n",
    "plt.title(\"X vs Y\")\n",
    "plt.show()"
   ]
  },
  {
   "cell_type": "code",
   "execution_count": 5,
   "metadata": {},
   "outputs": [
    {
     "data": {
      "image/png": "[encoded data removed]",
      "text/plain": [
       "<Figure size 432x288 with 2 Axes>"
      ]
     },
     "metadata": {
      "needs_background": "light"
     },
     "output_type": "display_data"
    }
   ],
   "source": [
    "# Now if you want to plot mutliple plot together you can use subplot()\n",
    "\n",
    "plt.subplot(1,2,1)\n",
    "plt.plot(x,y,'b')\n",
    "\n",
    "# subplot(no of rows, no of columns, plot no you are refering to)\n",
    "\n",
    "plt.subplot(1,2,2)\n",
    "plt.plot(x,y,'g')\n",
    "plt.show()"
   ]
  },
  {
   "cell_type": "markdown",
   "metadata": {},
   "source": [
    "### Object - Oriented Method"
   ]
  },
  {
   "cell_type": "code",
   "execution_count": 6,
   "metadata": {},
   "outputs": [
    {
     "data": {
      "text/plain": [
       "Text(0.5, 1.0, 'X vs Y')"
      ]
     },
     "execution_count": 6,
     "metadata": {},
     "output_type": "execute_result"
    },
    {
     "data": {
      "image/png": "[encoded data removed]",
      "text/plain": [
       "<Figure size 432x288 with 1 Axes>"
      ]
     },
     "metadata": {
      "needs_background": "light"
     },
     "output_type": "display_data"
    }
   ],
   "source": [
    "fig = plt.figure()\n",
    "axes = fig.add_axes([0.1,0.1,0.8,0.8])\n",
    "\n",
    "axes.plot(x,y)\n",
    "\n",
    "axes.set_xlabel(\"X Label\")\n",
    "axes.set_ylabel(\"Y Label\")\n",
    "\n",
    "axes.set_title(\"X vs Y\")"
   ]
  },
  {
   "cell_type": "code",
   "execution_count": null,
   "metadata": {},
   "outputs": [],
   "source": [
    "fig = plt.figure()\n",
    "\n",
    "axes1 = fig.add_axes([0.1,0.1,0.8,0.8])\n",
    "axes2 = fig.add_axes([0.4,0.55,0.4,0.3])\n",
    "\n",
    "axes1.plot([0.1,0.50,0.13,0.16],[10,15,18,25],'red')\n",
    "axes2.plot(y,x,'green')\n"
   ]
  },
  {
   "cell_type": "markdown",
   "metadata": {},
   "source": [
    "#### How to create subplot using Object Oriented Method"
   ]
  },
  {
   "cell_type": "code",
   "execution_count": null,
   "metadata": {},
   "outputs": [],
   "source": [
    "fig, axes = plt.subplots(nrows=1,ncols=2)\n",
    " \n",
    "# By Default plt.subplots(nrows=1,ncols=1,sharex=False, sharey=False, squeeze=True, subplot_kw=None, gridspec_kw=None)\n",
    "\n",
    "axes[0].plot(x,y,'red')\n",
    "axes[0].set_title(\"Y versus X\")\n",
    "\n",
    "axes[1].plot(y,x,'green')\n",
    "axes[1].set_title(\"X versus Y\")\n",
    "\n",
    "plt.tight_layout()\n",
    "# Always put in the end for not overlap"
   ]
  },
  {
   "cell_type": "markdown",
   "metadata": {},
   "source": [
    "## Figure Size and DPI"
   ]
  },
  {
   "cell_type": "code",
   "execution_count": null,
   "metadata": {},
   "outputs": [],
   "source": [
    "fig = plt.figure(figsize=(3,2),dpi= 100)\n",
    "\n",
    "# Creates a new figure.\n",
    "# figsize : tuple of integers, optional, default: None\n",
    "# width, height in inches. If not provided, defaults to rc\n",
    "# figure.figsize.\n",
    "\n",
    "# dpi(dots per inch) : integer, optional, default: None\n",
    "# resolution of the figure. If not provided, defaults to rc figure.dpi.\n",
    "\n",
    "ax = fig.add_axes([0,0,1,1])\n",
    "ax.plot(x,y)"
   ]
  },
  {
   "cell_type": "code",
   "execution_count": null,
   "metadata": {},
   "outputs": [],
   "source": [
    "fig, axes = plt.subplots(nrows=2,ncols=1,figsize=(8,2),dpi=100)\n",
    "\n",
    "axes[0].plot(x,y,'b')\n",
    "axes[1].plot(y,x,'p')\n",
    "\n",
    "plt.tight_layout()"
   ]
  },
  {
   "cell_type": "markdown",
   "metadata": {},
   "source": [
    "#### Save a Figure"
   ]
  },
  {
   "cell_type": "code",
   "execution_count": null,
   "metadata": {},
   "outputs": [],
   "source": [
    "fig.savefig(\"My_Figure.png\")"
   ]
  },
  {
   "cell_type": "code",
   "execution_count": null,
   "metadata": {},
   "outputs": [],
   "source": [
    "# If you are interested in particular directory you can give the whole path of that directory\n",
    "# You can save the figure with .jpg or .jpeg etc.\n",
    "\n",
    "fig.savefig(\"C://Users//pc//Downloads//Anaconda Practice//My_Figure.png\")"
   ]
  },
  {
   "cell_type": "markdown",
   "metadata": {},
   "source": [
    "#### Legends"
   ]
  },
  {
   "cell_type": "code",
   "execution_count": 7,
   "metadata": {},
   "outputs": [
    {
     "data": {
      "text/plain": [
       "<matplotlib.legend.Legend at 0x11609db38>"
      ]
     },
     "execution_count": 7,
     "metadata": {},
     "output_type": "execute_result"
    },
    {
     "data": {
      "image/png": "[encoded data removed]",
      "text/plain": [
       "<Figure size 432x288 with 1 Axes>"
      ]
     },
     "metadata": {
      "needs_background": "light"
     },
     "output_type": "display_data"
    }
   ],
   "source": [
    "fig = plt.figure()\n",
    "\n",
    "ax = fig.add_axes([0,0,1,1])\n",
    "\n",
    "ax.plot(x,x**2,label = 'X Squared')\n",
    "ax.plot(x,x**3,label='X Cubed')\n",
    "\n",
    "ax.legend(loc =0)"
   ]
  },
  {
   "cell_type": "code",
   "execution_count": null,
   "metadata": {},
   "outputs": [],
   "source": [
    "fig = plt.figure()\n",
    "\n",
    "ax = fig.add_axes([0,0,1,1])\n",
    "\n",
    "ax.plot(x,x**2,label = 'X Squared')\n",
    "ax.plot(x,x**3,label='X Cubed')\n",
    "\n",
    "ax.legend(loc=5)"
   ]
  },
  {
   "cell_type": "markdown",
   "metadata": {},
   "source": [
    "##### Now it your turn to play with legend and make sure to put value between 0-10 only."
   ]
  },
  {
   "cell_type": "markdown",
   "metadata": {},
   "source": [
    "### Plot Appearence"
   ]
  },
  {
   "cell_type": "code",
   "execution_count": null,
   "metadata": {},
   "outputs": [],
   "source": [
    "fig = plt.figure()\n",
    "\n",
    "ax = fig.add_axes([0,0,1,1])\n",
    "ax.plot(x,y)\n",
    "\n",
    "# ax.plot(x,y,color='orange')\n",
    "\n",
    "# You can also use #RGB Hex Code if you know\n",
    "\n",
    "ax.plot(x,y,color='#FF8c00')"
   ]
  },
  {
   "cell_type": "markdown",
   "metadata": {},
   "source": [
    "#### Line Width and Style "
   ]
  },
  {
   "cell_type": "code",
   "execution_count": null,
   "metadata": {},
   "outputs": [],
   "source": [
    "fig = plt.figure()\n",
    "\n",
    "ax = fig.add_axes([0,0,1,1])\n",
    "ax.plot(x,y)\n",
    "\n",
    "ax.plot(x,y,color='#FF8c00',linewidth =20)"
   ]
  },
  {
   "cell_type": "code",
   "execution_count": null,
   "metadata": {},
   "outputs": [],
   "source": [
    "fig = plt.figure()\n",
    "\n",
    "ax = fig.add_axes([0,0,1,1])\n",
    "ax.plot(x,y)\n",
    "\n",
    "ax.plot(x,y,color='#FF8c00',lw =2)\n",
    "\n",
    "# Note: You can also use shortcut by writing lw rather than linewidth"
   ]
  },
  {
   "cell_type": "code",
   "execution_count": null,
   "metadata": {},
   "outputs": [],
   "source": [
    "fig = plt.figure()\n",
    "\n",
    "ax = fig.add_axes([0,0,1,1])\n",
    "ax.plot(x,y)\n",
    "\n",
    "ax.plot(x,y,color='#FF8c00',linewidth =5,alpha=0.4)\n",
    "\n",
    "# alpha: float (0.0 transparent through 1.0 opaque) "
   ]
  },
  {
   "cell_type": "code",
   "execution_count": 8,
   "metadata": {},
   "outputs": [
    {
     "data": {
      "text/plain": [
       "[<matplotlib.lines.Line2D at 0x11649eb70>]"
      ]
     },
     "execution_count": 8,
     "metadata": {},
     "output_type": "execute_result"
    },
    {
     "data": {
      "image/png": "[encoded data removed]",
      "text/plain": [
       "<Figure size 432x288 with 1 Axes>"
      ]
     },
     "metadata": {
      "needs_background": "light"
     },
     "output_type": "display_data"
    }
   ],
   "source": [
    "fig = plt.figure()\n",
    "\n",
    "ax = fig.add_axes([0,0,1,1])\n",
    "ax.plot(x,y)\n",
    "\n",
    "ax.plot(x,y,color='#FF8c00',linewidth =5.5,alpha=0.8904,linestyle=':')\n",
    "\n",
    "#  linestyle or ls: ['solid' | 'dashed', 'dashdot', 'dotted' | (offset, on-off-dash-seq) \n",
    "#  | ``'-'`` | ``'--'`` | ``'-.'`` | ``':'`` | ``'None'`` | ``' '`` | ``''``]\n",
    "\n",
    "#  linewidth or lw: float value in points \n",
    "\n",
    "# alpha: float (0.0 transparent through 1.0 opaque) "
   ]
  },
  {
   "cell_type": "markdown",
   "metadata": {},
   "source": [
    "#### Markers"
   ]
  },
  {
   "cell_type": "code",
   "execution_count": null,
   "metadata": {},
   "outputs": [],
   "source": [
    "fig = plt.figure()\n",
    "\n",
    "ax = fig.add_axes([0,0,1,1])\n",
    "ax.plot(x,y)\n",
    "\n",
    "ax.plot(x,y,color='#FF8c00',linewidth =3,alpha=0.8904,linestyle='-', marker = 'o')\n",
    "\n",
    "#  linestyle or ls: ['solid' | 'dashed', 'dashdot', 'dotted' | (offset, on-off-dash-seq) \n",
    "#  | ``'-'`` | ``'--'`` | ``'-.'`` | ``':'`` | ``'None'`` | ``' '`` | ``''``]\n",
    "\n",
    "#  linewidth or lw: float value in points \n",
    "\n",
    "# alpha: float (0.0 transparent through 1.0 opaque) \n",
    "\n",
    "# marker: :mod:`A valid marker style <matplotlib.markers>`"
   ]
  },
  {
   "cell_type": "code",
   "execution_count": null,
   "metadata": {},
   "outputs": [],
   "source": [
    "# To add markersize \n",
    "fig = plt.figure()\n",
    "\n",
    "ax = fig.add_axes([0,0,1,1])\n",
    "ax.plot(x,y)\n",
    "\n",
    "ax.plot(x,y,color='#FF8c00',linewidth =3,alpha=0.8904,linestyle='-', marker = 'o', markersize=18)\n",
    "\n",
    "#  linestyle or ls: ['solid' | 'dashed', 'dashdot', 'dotted' | (offset, on-off-dash-seq) \n",
    "#  | ``'-'`` | ``'--'`` | ``'-.'`` | ``':'`` | ``'None'`` | ``' '`` | ``''``]\n",
    "\n",
    "#  linewidth or lw: float value in points \n",
    "\n",
    "# alpha: float (0.0 transparent through 1.0 opaque) \n",
    "\n",
    "# marker: :mod:`A valid marker style <matplotlib.markers>`"
   ]
  },
  {
   "cell_type": "code",
   "execution_count": null,
   "metadata": {},
   "outputs": [],
   "source": [
    "fig = plt.figure()\n",
    "\n",
    "ax = fig.add_axes([0,0,1,1])\n",
    "ax.plot(x,y)\n",
    "\n",
    "ax.plot(x,y,color='#FF8c00',linewidth =3,alpha=0.8904,linestyle='-', marker = 'o', markersize=20,markerfacecolor='blue',\n",
    "        markeredgewidth=3,markeredgecolor=\"yellow\")\n",
    "\n",
    "#  linestyle or ls: ['solid' | 'dashed', 'dashdot', 'dotted' | (offset, on-off-dash-seq) \n",
    "#  | ``'-'`` | ``'--'`` | ``'-.'`` | ``':'`` | ``'None'`` | ``' '`` | ``''``]\n",
    "\n",
    "#  linewidth or lw: float value in points \n",
    "\n",
    "# alpha: float (0.0 transparent through 1.0 opaque) \n",
    "\n",
    "# marker: :mod:`A valid marker style <matplotlib.markers>`"
   ]
  },
  {
   "cell_type": "markdown",
   "metadata": {},
   "source": [
    "#### Control over Axis Appearence"
   ]
  },
  {
   "cell_type": "code",
   "execution_count": null,
   "metadata": {},
   "outputs": [],
   "source": [
    "fig = plt.figure()\n",
    "\n",
    "ax = fig.add_axes([0,0,1,1])\n",
    "ax.plot(x,y)\n",
    "\n",
    "ax.plot(x,y,color='#FF8c00',linewidth =3,alpha=0.8904,linestyle='-', marker = 'o', markersize=20,markerfacecolor='blue',\n",
    "        markeredgewidth=3,markeredgecolor=\"yellow\")\n",
    "\n",
    "ax.set_xlim([0,1])            #Set the data limits for the x-axis\n",
    "ax.set_ylim([0,2])            #Set the data limits for the y-axis\n",
    "\n",
    "#  linestyle or ls: ['solid' | 'dashed', 'dashdot', 'dotted' | (offset, on-off-dash-seq) \n",
    "#  | ``'-'`` | ``'--'`` | ``'-.'`` | ``':'`` | ``'None'`` | ``' '`` | ``''``]\n",
    "\n",
    "#  linewidth or lw: float value in points \n",
    "\n",
    "# alpha: float (0.0 transparent through 1.0 opaque) \n",
    "\n",
    "# marker: :mod:`A valid marker style <matplotlib.markers>`"
   ]
  },
  {
   "cell_type": "markdown",
   "metadata": {},
   "source": [
    "That's it for today! I hope you learn something from this. For More refer to -<br>\n",
    "<a href='www.themenyouwanttobe.com'>TheMenYouWantToBe<a/> \n",
    "    \n",
    "<a href =\"https://matplotlib.org/tutorials/introductory/sample_plots.html#sphx-glr-tutorials-introductory-sample-plots-py\">Sample Plots</a>"
   ]
  }
 ],
 "metadata": {
  "kernelspec": {
   "display_name": "Python 3",
   "language": "python",
   "name": "python3"
  },
  "language_info": {
   "codemirror_mode": {
    "name": "ipython",
    "version": 3
   },
   "file_extension": ".py",
   "mimetype": "text/x-python",
   "name": "python",
   "nbconvert_exporter": "python",
   "pygments_lexer": "ipython3",
   "version": "3.7.3"
  }
 },
 "nbformat": 4,
 "nbformat_minor": 2
}
